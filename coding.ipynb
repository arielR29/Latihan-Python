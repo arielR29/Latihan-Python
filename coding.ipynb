{
 "cells": [
  {
   "cell_type": "code",
   "execution_count": 14,
   "id": "ba815441",
   "metadata": {},
   "outputs": [
    {
     "name": "stdout",
     "output_type": "stream",
     "text": [
      "19\n",
      "11\n",
      "19\n",
      "50\n"
     ]
    }
   ],
   "source": [
    "def pertambahan():\n",
    "    print (a+b)\n",
    "\n",
    "a = 9\n",
    "b = 10\n",
    "pertambahan()\n",
    "\n",
    "a = 8\n",
    "b = 3\n",
    "pertambahan()\n",
    "\n",
    "def pertambahan1():\n",
    "    hasil = a+b\n",
    "    return hasil\n",
    "\n",
    "a = 10\n",
    "b = 9\n",
    "pertambahan()\n",
    "\n",
    "def pengurangan():\n",
    "    print (a-b)\n",
    "\n",
    "a = 100\n",
    "b = 50\n",
    "pengurangan()"
   ]
  },
  {
   "cell_type": "code",
   "execution_count": 22,
   "id": "b332b33a",
   "metadata": {},
   "outputs": [
    {
     "name": "stdout",
     "output_type": "stream",
     "text": [
      "0\n",
      "400\n",
      "10.0\n"
     ]
    },
    {
     "data": {
      "text/plain": [
       "50.0"
      ]
     },
     "execution_count": 22,
     "metadata": {},
     "output_type": "execute_result"
    }
   ],
   "source": [
    "def pengurangan():\n",
    "    hasil_kurang = a-b\n",
    "    return hasil_kurang\n",
    "a = 200\n",
    "b = 50\n",
    "pengurangan()\n",
    "\n",
    "def perkalian():\n",
    "    print (a*b)\n",
    "a = 400\n",
    "b = 0\n",
    "perkalian()\n",
    "\n",
    "def perkalian3():\n",
    "    hasil_perkalian = a*b\n",
    "    return hasil_perkalian\n",
    "a = 20\n",
    "b = 20\n",
    "perkalian()\n",
    "\n",
    "def pembagian():\n",
    "    print (a/b)\n",
    "a = 20\n",
    "b = 2\n",
    "pembagian()\n",
    "\n",
    "def pembagian():\n",
    "    hasilpembagian = (a/b)\n",
    "    return hasilpembagian\n",
    "a = 100\n",
    "b = 2\n",
    "pembagian()\n"
   ]
  },
  {
   "cell_type": "code",
   "execution_count": null,
   "id": "8c1fdbff",
   "metadata": {},
   "outputs": [],
   "source": []
  }
 ],
 "metadata": {
  "kernelspec": {
   "display_name": "Python 3",
   "language": "python",
   "name": "python3"
  },
  "language_info": {
   "codemirror_mode": {
    "name": "ipython",
    "version": 3
   },
   "file_extension": ".py",
   "mimetype": "text/x-python",
   "name": "python",
   "nbconvert_exporter": "python",
   "pygments_lexer": "ipython3",
   "version": "3.13.7"
  }
 },
 "nbformat": 4,
 "nbformat_minor": 5
}
