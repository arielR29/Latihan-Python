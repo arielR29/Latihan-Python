{
 "cells": [
  {
   "cell_type": "code",
   "execution_count": 4,
   "id": "77561bb2-c855-4dea-8303-0e4fb0a9fab8",
   "metadata": {},
   "outputs": [
    {
     "name": "stdout",
     "output_type": "stream",
     "text": [
      "Hello World\n",
      "5\n"
     ]
    }
   ],
   "source": [
    "print (\"Hello World\")\n",
    "\n",
    "a = 3\n",
    "b = 2\n",
    "\n",
    "print (a+b)"
   ]
  },
  {
   "cell_type": "code",
   "execution_count": 5,
   "id": "186b2ece-a40d-42ca-b806-15353085d3dd",
   "metadata": {},
   "outputs": [],
   "source": [
    "a = 3\n",
    "b = 2"
   ]
  },
  {
   "cell_type": "code",
   "execution_count": 1,
   "id": "d9ca541a-294f-4371-b3f8-3890679bfad4",
   "metadata": {},
   "outputs": [
    {
     "name": "stdout",
     "output_type": "stream",
     "text": [
      "Ariel bocil\n"
     ]
    }
   ],
   "source": [
    "print (\"Ariel bocil\")"
   ]
  },
  {
   "cell_type": "code",
   "execution_count": 6,
   "id": "df4ba4b2-5bcc-4227-aad1-50c79f3a6cea",
   "metadata": {},
   "outputs": [
    {
     "name": "stdout",
     "output_type": "stream",
     "text": [
      "TIDAK LULUS\n"
     ]
    }
   ],
   "source": [
    "nilai = 75\n",
    "\n",
    "if nilai > 75 :\n",
    "    print (\"LULUS\")\n",
    "else :\n",
    "    print (\"TIDAK LULUS\")"
   ]
  },
  {
   "cell_type": "code",
   "execution_count": 7,
   "id": "17e09836-86b1-4949-8fdb-6c092540ae7f",
   "metadata": {},
   "outputs": [
    {
     "name": "stdout",
     "output_type": "stream",
     "text": [
      "False\n"
     ]
    }
   ],
   "source": [
    "print (10 < 8)"
   ]
  },
  {
   "cell_type": "code",
   "execution_count": 8,
   "id": "b0ec4799-5d98-4145-95d6-6481726eba03",
   "metadata": {},
   "outputs": [
    {
     "name": "stdout",
     "output_type": "stream",
     "text": [
      "False\n"
     ]
    }
   ],
   "source": [
    "print (100 < 56)\n"
   ]
  },
  {
   "cell_type": "code",
   "execution_count": 9,
   "id": "be0de441-b0c7-4ac0-82c8-11e428e7d9a4",
   "metadata": {},
   "outputs": [
    {
     "name": "stdout",
     "output_type": "stream",
     "text": [
      "True\n"
     ]
    }
   ],
   "source": [
    "print (1000 > 999)"
   ]
  },
  {
   "cell_type": "code",
   "execution_count": 17,
   "id": "5d1353d3-dd00-491e-8b28-a40c6d968dde",
   "metadata": {},
   "outputs": [
    {
     "name": "stdout",
     "output_type": "stream",
     "text": [
      " a lebih besar dari b\n"
     ]
    }
   ],
   "source": [
    "a = 70\n",
    "b = 60\n",
    "\n",
    "if a < b:\n",
    "    print (\"a lebih kecil dari b\")\n",
    "elif a == b :\n",
    "    print (\"a sama besar sama b\")\n",
    "else :\n",
    "    print (\" a lebih besar dari b\")\n",
    "    "
   ]
  },
  {
   "cell_type": "code",
   "execution_count": 18,
   "id": "968263bf-4ffa-4556-92a0-7009c30c5834",
   "metadata": {},
   "outputs": [
    {
     "name": "stdout",
     "output_type": "stream",
     "text": [
      "a lebih besar dari b\n"
     ]
    }
   ],
   "source": [
    "a = 8000\n",
    "b = 9000\n",
    "if a > b:\n",
    "    print (\"a lebih besar dari b\")\n",
    "elif a == b :\n",
    "    print (\"a sama besar dengan b\")\n",
    "else :\n",
    "    print (\"a lebih kecil dari b\")\n",
    "    "
   ]
  },
  {
   "cell_type": "code",
   "execution_count": 1,
   "id": "b2e3886f-70c0-4baa-ac0f-15c41b1512d6",
   "metadata": {},
   "outputs": [
    {
     "name": "stdout",
     "output_type": "stream",
     "text": [
      "25\n"
     ]
    }
   ],
   "source": [
    "a = 8\n",
    "b = 8\n",
    "c = 9\n",
    "print (a+b+c)"
   ]
  },
  {
   "cell_type": "code",
   "execution_count": 2,
   "id": "bb288986-24d5-4839-a1c5-eb23cfd4184f",
   "metadata": {},
   "outputs": [
    {
     "name": "stdout",
     "output_type": "stream",
     "text": [
      "TIDAK LULUS\n"
     ]
    }
   ],
   "source": [
    "nilai = 75\n",
    "if nilai > 76:\n",
    "    print (\"LULUS\")\n",
    "else :\n",
    "    print (\"TIDAK LULUS\")"
   ]
  },
  {
   "cell_type": "code",
   "execution_count": 3,
   "id": "88fd6e74-2eb8-40eb-bac1-116a1573a2e9",
   "metadata": {},
   "outputs": [
    {
     "name": "stdout",
     "output_type": "stream",
     "text": [
      "LOLOS\n"
     ]
    }
   ],
   "source": [
    "nilai = 89\n",
    "if nilai > 76 :\n",
    "    print (\"LOLOS\")\n",
    "else  :\n",
    "    (\"TIDAK LOLOS\")"
   ]
  },
  {
   "cell_type": "code",
   "execution_count": 4,
   "id": "794e0efc-2b1e-40b3-8b3b-358598cf42ef",
   "metadata": {},
   "outputs": [
    {
     "name": "stdout",
     "output_type": "stream",
     "text": [
      "a sama besar dengan c\n",
      "b lebih kecil dari d\n"
     ]
    }
   ],
   "source": [
    "a = 10000\n",
    "b = 20000\n",
    "c = 10000\n",
    "d = 100000\n",
    "if a > c :\n",
    "    print (\"a lebih besar dari c\")\n",
    "elif a==c :\n",
    "    print (\"a sama besar dengan c\")\n",
    "else :\n",
    "    print (\"a lebih kecil dari c\")\n",
    "if b > d :\n",
    "    print (\"b lebih besar dari d\")\n",
    "elif b==d :\n",
    "    print (\"b sama besar dengan d\")\n",
    "else :\n",
    "    print (\"b lebih kecil dari d\")\n",
    "    \n",
    "\n",
    "\n"
   ]
  },
  {
   "cell_type": "code",
   "execution_count": 9,
   "id": "7d01da7d-01f1-4303-a5d3-82736d97a26f",
   "metadata": {},
   "outputs": [
    {
     "name": "stdout",
     "output_type": "stream",
     "text": [
      "Mahasiswa mendapatkan nilai sangat memuaskan\n"
     ]
    }
   ],
   "source": [
    "def myFunction(a):\n",
    "    if a == 75:\n",
    "        return 'tidak lulus';\n",
    "    elif a == 80:\n",
    "        return 'nilai memuaskan';\n",
    "    else :\n",
    "        return 'nilai sangat memuaskan';\n",
    "\n",
    "hasil = myFunction(95)\n",
    "print (\"Mahasiswa mendapatkan\", hasil)"
   ]
  },
  {
   "cell_type": "code",
   "execution_count": null,
   "id": "8e12eb4e-1430-4d9d-abab-b478fbd789cd",
   "metadata": {},
   "outputs": [],
   "source": []
  }
 ],
 "metadata": {
  "kernelspec": {
   "display_name": "Python 3 (ipykernel)",
   "language": "python",
   "name": "python3"
  },
  "language_info": {
   "codemirror_mode": {
    "name": "ipython",
    "version": 3
   },
   "file_extension": ".py",
   "mimetype": "text/x-python",
   "name": "python",
   "nbconvert_exporter": "python",
   "pygments_lexer": "ipython3",
   "version": "3.13.7"
  }
 },
 "nbformat": 4,
 "nbformat_minor": 5
}
